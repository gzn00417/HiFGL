{
 "cells": [
  {
   "cell_type": "code",
   "execution_count": 84,
   "metadata": {},
   "outputs": [],
   "source": [
    "import torch\n",
    "import pandas as pd\n",
    "import numpy as np"
   ]
  },
  {
   "cell_type": "code",
   "execution_count": 85,
   "metadata": {},
   "outputs": [],
   "source": [
    "dataset_name = 'pubmed'\n",
    "N = 5"
   ]
  },
  {
   "cell_type": "code",
   "execution_count": 86,
   "metadata": {},
   "outputs": [
    {
     "data": {
      "text/plain": [
       "{-1: Data(x=[19717, 500], edge_index=[2, 71182], y=[19717], train_mask=[19717], val_mask=[19717], test_mask=[19717], index_orig=[19717], map_to_clients=[19717]),\n",
       " 1: Data(x=[3943, 500], edge_index=[2, 3780], y=[3943], train_mask=[3943], val_mask=[3943], test_mask=[3943], index_orig=[3943]),\n",
       " 2: Data(x=[3944, 500], edge_index=[2, 3396], y=[3944], train_mask=[3944], val_mask=[3944], test_mask=[3944], index_orig=[3944]),\n",
       " 3: Data(x=[3943, 500], edge_index=[2, 3404], y=[3943], train_mask=[3943], val_mask=[3943], test_mask=[3943], index_orig=[3943]),\n",
       " 4: Data(x=[3944, 500], edge_index=[2, 3410], y=[3944], train_mask=[3944], val_mask=[3944], test_mask=[3944], index_orig=[3944]),\n",
       " 5: Data(x=[3943, 500], edge_index=[2, 3476], y=[3943], train_mask=[3943], val_mask=[3943], test_mask=[3943], index_orig=[3943])}"
      ]
     },
     "execution_count": 86,
     "metadata": {},
     "output_type": "execute_result"
    }
   ],
   "source": [
    "clients = {i: torch.load(f\"../data/{dataset_name}/{i}_clients.pt\") for i in ([-1] + list(range(1, N + 1)))}\n",
    "clients"
   ]
  },
  {
   "cell_type": "code",
   "execution_count": 87,
   "metadata": {},
   "outputs": [
    {
     "data": {
      "text/html": [
       "<div>\n",
       "<style scoped>\n",
       "    .dataframe tbody tr th:only-of-type {\n",
       "        vertical-align: middle;\n",
       "    }\n",
       "\n",
       "    .dataframe tbody tr th {\n",
       "        vertical-align: top;\n",
       "    }\n",
       "\n",
       "    .dataframe thead th {\n",
       "        text-align: right;\n",
       "    }\n",
       "</style>\n",
       "<table border=\"1\" class=\"dataframe\">\n",
       "  <thead>\n",
       "    <tr style=\"text-align: right;\">\n",
       "      <th></th>\n",
       "      <th>src_client</th>\n",
       "      <th>src_index</th>\n",
       "      <th>tgt_client</th>\n",
       "      <th>tgt_index</th>\n",
       "    </tr>\n",
       "  </thead>\n",
       "  <tbody>\n",
       "    <tr>\n",
       "      <th>0</th>\n",
       "      <td>1</td>\n",
       "      <td>8193</td>\n",
       "      <td>1</td>\n",
       "      <td>3180</td>\n",
       "    </tr>\n",
       "    <tr>\n",
       "      <th>1</th>\n",
       "      <td>1</td>\n",
       "      <td>8193</td>\n",
       "      <td>1</td>\n",
       "      <td>3796</td>\n",
       "    </tr>\n",
       "    <tr>\n",
       "      <th>2</th>\n",
       "      <td>1</td>\n",
       "      <td>16387</td>\n",
       "      <td>1</td>\n",
       "      <td>6149</td>\n",
       "    </tr>\n",
       "    <tr>\n",
       "      <th>3</th>\n",
       "      <td>1</td>\n",
       "      <td>16387</td>\n",
       "      <td>1</td>\n",
       "      <td>10592</td>\n",
       "    </tr>\n",
       "    <tr>\n",
       "      <th>4</th>\n",
       "      <td>1</td>\n",
       "      <td>6</td>\n",
       "      <td>1</td>\n",
       "      <td>3150</td>\n",
       "    </tr>\n",
       "    <tr>\n",
       "      <th>...</th>\n",
       "      <td>...</td>\n",
       "      <td>...</td>\n",
       "      <td>...</td>\n",
       "      <td>...</td>\n",
       "    </tr>\n",
       "    <tr>\n",
       "      <th>88643</th>\n",
       "      <td>4</td>\n",
       "      <td>19710</td>\n",
       "      <td>1</td>\n",
       "      <td>2304</td>\n",
       "    </tr>\n",
       "    <tr>\n",
       "      <th>88644</th>\n",
       "      <td>4</td>\n",
       "      <td>19713</td>\n",
       "      <td>5</td>\n",
       "      <td>12204</td>\n",
       "    </tr>\n",
       "    <tr>\n",
       "      <th>88645</th>\n",
       "      <td>1</td>\n",
       "      <td>19714</td>\n",
       "      <td>2</td>\n",
       "      <td>12278</td>\n",
       "    </tr>\n",
       "    <tr>\n",
       "      <th>88646</th>\n",
       "      <td>2</td>\n",
       "      <td>19715</td>\n",
       "      <td>3</td>\n",
       "      <td>4284</td>\n",
       "    </tr>\n",
       "    <tr>\n",
       "      <th>88647</th>\n",
       "      <td>1</td>\n",
       "      <td>19716</td>\n",
       "      <td>3</td>\n",
       "      <td>16030</td>\n",
       "    </tr>\n",
       "  </tbody>\n",
       "</table>\n",
       "<p>88648 rows × 4 columns</p>\n",
       "</div>"
      ],
      "text/plain": [
       "      src_client src_index tgt_client tgt_index\n",
       "0              1      8193          1      3180\n",
       "1              1      8193          1      3796\n",
       "2              1     16387          1      6149\n",
       "3              1     16387          1     10592\n",
       "4              1         6          1      3150\n",
       "...          ...       ...        ...       ...\n",
       "88643          4     19710          1      2304\n",
       "88644          4     19713          5     12204\n",
       "88645          1     19714          2     12278\n",
       "88646          2     19715          3      4284\n",
       "88647          1     19716          3     16030\n",
       "\n",
       "[88648 rows x 4 columns]"
      ]
     },
     "execution_count": 87,
     "metadata": {},
     "output_type": "execute_result"
    }
   ],
   "source": [
    "data = pd.DataFrame(columns=['src_client', 'src_index', 'tgt_client', 'tgt_index'])\n",
    "\n",
    "# intra client\n",
    "for client_id in range(1, N + 1):\n",
    "    local_id_2_global_id = clients[client_id].index_orig\n",
    "    src, tgt = clients[client_id].edge_index\n",
    "    client_data = {\n",
    "        'src_index': local_id_2_global_id[src].tolist(),\n",
    "        'tgt_index': local_id_2_global_id[tgt].tolist(),\n",
    "        'src_client': [client_id] * len(src),\n",
    "        'tgt_client': [client_id] * len(tgt),\n",
    "    }\n",
    "    data = pd.concat([data, pd.DataFrame(client_data)], ignore_index=True)\n",
    "\n",
    "# cross client\n",
    "id_2_client = dict(clients[-1].map_to_clients)\n",
    "src, tgt = clients[-1].edge_index\n",
    "cross_client_data = pd.DataFrame({\n",
    "    'src_index': src,\n",
    "    'tgt_index': tgt,\n",
    "    'src_client': [id_2_client[int(x)] + 1 for x in src],\n",
    "    'tgt_client': [id_2_client[int(x)] + 1 for x in tgt],\n",
    "})\n",
    "data = pd.concat([data, cross_client_data], ignore_index=True)\n",
    "\n",
    "data"
   ]
  },
  {
   "cell_type": "code",
   "execution_count": 88,
   "metadata": {},
   "outputs": [
    {
     "data": {
      "text/plain": [
       "0.9031291106173726"
      ]
     },
     "execution_count": 88,
     "metadata": {},
     "output_type": "execute_result"
    }
   ],
   "source": [
    "s = 0.0\n",
    "for client_id in range(1, N + 1):\n",
    "    s += len(pd.concat([\n",
    "        cross_client_data[cross_client_data['src_client'] == client_id]['src_index'].drop_duplicates(),\n",
    "        cross_client_data[cross_client_data['tgt_client'] == client_id]['tgt_index'].drop_duplicates()\n",
    "    ]).drop_duplicates()) / clients[client_id].index_orig.size(0)\n",
    "s / 5"
   ]
  },
  {
   "cell_type": "code",
   "execution_count": 89,
   "metadata": {},
   "outputs": [],
   "source": [
    "# data.to_csv(f'../data/{dataset_name}/graph.csv', index=False)"
   ]
  }
 ],
 "metadata": {
  "kernelspec": {
   "display_name": "Python 3.8.13 ('python38': conda)",
   "language": "python",
   "name": "python3"
  },
  "language_info": {
   "codemirror_mode": {
    "name": "ipython",
    "version": 3
   },
   "file_extension": ".py",
   "mimetype": "text/x-python",
   "name": "python",
   "nbconvert_exporter": "python",
   "pygments_lexer": "ipython3",
   "version": "3.8.13"
  },
  "orig_nbformat": 4,
  "vscode": {
   "interpreter": {
    "hash": "2abb3f83b8638a305a589b9a2936b64f20bf9059adda01bb64c313a2c505cbf6"
   }
  }
 },
 "nbformat": 4,
 "nbformat_minor": 2
}
