{
 "cells": [
  {
   "cell_type": "code",
   "execution_count": null,
   "metadata": {},
   "outputs": [],
   "source": [
    "from typing import *\n",
    "import torch\n",
    "from torch import nn\n",
    "from torch.nn import functional as F\n",
    "\n",
    "from modules import HiFNode, HiFSubgraph, HiFGraph\n",
    "from models import *\n"
   ]
  },
  {
   "cell_type": "code",
   "execution_count": null,
   "metadata": {},
   "outputs": [],
   "source": [
    "dataset_name = 'dblp_conf'\n",
    "N = {\n",
    "    'cora': 5,\n",
    "    'citeseer': 5,\n",
    "    'pubmed': 5,\n",
    "    'dblp_conf': 20,\n",
    "    'dblp_org': 8\n",
    "}[dataset_name]"
   ]
  },
  {
   "cell_type": "code",
   "execution_count": null,
   "metadata": {},
   "outputs": [],
   "source": [
    "clients = {i: torch.load(f\"../data/{dataset_name}/{i}_clients.pt\") for i in ([-1] + list(range(1, N + 1)))}\n",
    "clients\n"
   ]
  },
  {
   "cell_type": "code",
   "execution_count": null,
   "metadata": {},
   "outputs": [],
   "source": [
    "classes = set()\n",
    "client_classes = [set(client.y.tolist()) for client in clients.values()]\n",
    "for i in client_classes:\n",
    "    classes = classes | i\n",
    "num_classes = len(classes)\n"
   ]
  },
  {
   "cell_type": "code",
   "execution_count": null,
   "metadata": {},
   "outputs": [],
   "source": [
    "feature_dim = clients[-1].x.size(1)\n",
    "hidden_dim = 64\n",
    "graph = HiFGraph(global_models=get_module_dict(feature_dim, hidden_dim, num_classes))\n",
    "subgraph_dict: Dict[int, HiFSubgraph] = {}\n",
    "node_dict: Dict[int, HiFNode] = {}\n",
    "\n",
    "# intra client\n",
    "for client_id in range(1, N + 1):\n",
    "\n",
    "    # subgraph\n",
    "    subgraph = HiFSubgraph(\n",
    "        local_models=get_module_dict(feature_dim, hidden_dim, num_classes),\n",
    "        num_classes=num_classes,\n",
    "    )\n",
    "    graph.add_subgraph(subgraph)\n",
    "    subgraph_dict[client_id] = subgraph\n",
    "    X: torch.Tensor = clients[client_id].x\n",
    "    Y: torch.Tensor = clients[client_id].y\n",
    "    Y_one_hot: torch.Tensor = F.one_hot(Y, num_classes=num_classes).float()\n",
    "    index_orig: torch.Tensor = clients[client_id].index_orig.tolist()\n",
    "    num_nodes, feature_dim = X.size()\n",
    "\n",
    "    # nodes\n",
    "    for i in range(num_nodes):\n",
    "        node = HiFNode(\n",
    "            raw_feature=X[i],\n",
    "            label=Y[i],\n",
    "            label_one_hot=Y_one_hot[i],\n",
    "        )\n",
    "        subgraph.add_hif_node(node)\n",
    "        node_dict[index_orig[i]] = node\n",
    "\n",
    "    # edges\n",
    "    src_indices, tgt_indices = clients[client_id].edge_index\n",
    "    for src_index, tgt_index in zip(src_indices.tolist(), tgt_indices.tolist()):\n",
    "        src_node: HiFNode = node_dict[index_orig[src_index]]\n",
    "        tgt_node: HiFNode = node_dict[index_orig[tgt_index]]\n",
    "        src_node.add_edge(tgt_node)\n",
    "        tgt_node.add_edge(src_node)\n",
    "\n",
    "    # split dataset\n",
    "    subgraph.split_nodes_set(\n",
    "        train_mask=clients[client_id].train_mask,\n",
    "        val_mask=clients[client_id].val_mask,\n",
    "        test_mask=clients[client_id].test_mask,\n",
    "    )\n",
    "\n",
    "# cross client\n",
    "src_indices, tgt_indices = clients[-1].edge_index\n",
    "index_orig: torch.Tensor = clients[-1].index_orig.tolist()\n",
    "for src_index, tgt_index in zip(src_indices.tolist(), tgt_indices.tolist()):\n",
    "    src_node: HiFNode = node_dict[index_orig[src_index]]\n",
    "    tgt_node: HiFNode = node_dict[index_orig[tgt_index]]\n",
    "    src_node.add_edge(tgt_node)\n",
    "    tgt_node.add_edge(src_node)\n"
   ]
  },
  {
   "cell_type": "code",
   "execution_count": null,
   "metadata": {},
   "outputs": [],
   "source": [
    "for epoch in range(100):\n",
    "    print(f'Epoch {epoch}:')\n",
    "    graph.global_train()\n",
    "    graph.global_validate()\n"
   ]
  }
 ],
 "metadata": {
  "kernelspec": {
   "display_name": "Python 3.8.13 ('python38': conda)",
   "language": "python",
   "name": "python3"
  },
  "language_info": {
   "codemirror_mode": {
    "name": "ipython",
    "version": 3
   },
   "file_extension": ".py",
   "mimetype": "text/x-python",
   "name": "python",
   "nbconvert_exporter": "python",
   "pygments_lexer": "ipython3",
   "version": "3.8.13"
  },
  "orig_nbformat": 4,
  "vscode": {
   "interpreter": {
    "hash": "2abb3f83b8638a305a589b9a2936b64f20bf9059adda01bb64c313a2c505cbf6"
   }
  }
 },
 "nbformat": 4,
 "nbformat_minor": 2
}
